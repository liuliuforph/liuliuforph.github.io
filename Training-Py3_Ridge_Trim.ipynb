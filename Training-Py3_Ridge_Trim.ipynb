{
 "cells": [
  {
   "cell_type": "code",
   "execution_count": 4,
   "metadata": {},
   "outputs": [
    {
     "name": "stdout",
     "output_type": "stream",
     "text": [
      "The autoreload extension is already loaded. To reload it, use:\n",
      "  %reload_ext autoreload\n"
     ]
    }
   ],
   "source": [
    "%reload_ext autoreload\n",
    "%matplotlib inline\n",
    "%load_ext autoreload\n",
    "%autoreload 2\n",
    "%reload_ext autoreload\n",
    "\n",
    "import numpy as np\n",
    "import matplotlib.pyplot as plt\n",
    "import pandas as pd\n",
    "import scipy\n",
    "import seaborn as sns\n",
    "\n",
    "\n",
    "import math\n",
    "\n",
    "\n",
    "\n",
    "\n",
    "from __future__ import division\n",
    "import tensorflow as tf"
   ]
  },
  {
   "cell_type": "markdown",
   "metadata": {},
   "source": [
    "## Load  data set."
   ]
  },
  {
   "cell_type": "code",
   "execution_count": 5,
   "metadata": {},
   "outputs": [
    {
     "data": {
      "text/plain": [
       "(342630, 4)"
      ]
     },
     "execution_count": 5,
     "metadata": {},
     "output_type": "execute_result"
    }
   ],
   "source": [
    "df = pd.read_csv('data.csv')\n",
    "\n",
    "df.shape"
   ]
  },
  {
   "cell_type": "code",
   "execution_count": null,
   "metadata": {
    "collapsed": true
   },
   "outputs": [],
   "source": []
  },
  {
   "cell_type": "code",
   "execution_count": 6,
   "metadata": {
    "collapsed": true
   },
   "outputs": [],
   "source": [
    "df_example = df.copy()"
   ]
  },
  {
   "cell_type": "code",
   "execution_count": 7,
   "metadata": {},
   "outputs": [
    {
     "data": {
      "text/html": [
       "<div>\n",
       "<style>\n",
       "    .dataframe thead tr:only-child th {\n",
       "        text-align: right;\n",
       "    }\n",
       "\n",
       "    .dataframe thead th {\n",
       "        text-align: left;\n",
       "    }\n",
       "\n",
       "    .dataframe tbody tr th {\n",
       "        vertical-align: top;\n",
       "    }\n",
       "</style>\n",
       "<table border=\"1\" class=\"dataframe\">\n",
       "  <thead>\n",
       "    <tr style=\"text-align: right;\">\n",
       "      <th></th>\n",
       "      <th>timestamp</th>\n",
       "      <th>xprice</th>\n",
       "      <th>yprice</th>\n",
       "      <th>returns</th>\n",
       "    </tr>\n",
       "  </thead>\n",
       "  <tbody>\n",
       "    <tr>\n",
       "      <th>0</th>\n",
       "      <td>1357225500000</td>\n",
       "      <td>139.8375</td>\n",
       "      <td>169.2500</td>\n",
       "      <td>0.3125</td>\n",
       "    </tr>\n",
       "    <tr>\n",
       "      <th>1</th>\n",
       "      <td>1357225510000</td>\n",
       "      <td>139.8875</td>\n",
       "      <td>169.3000</td>\n",
       "      <td>0.2750</td>\n",
       "    </tr>\n",
       "    <tr>\n",
       "      <th>2</th>\n",
       "      <td>1357225520000</td>\n",
       "      <td>139.8625</td>\n",
       "      <td>169.3375</td>\n",
       "      <td>0.2500</td>\n",
       "    </tr>\n",
       "    <tr>\n",
       "      <th>3</th>\n",
       "      <td>1357225530000</td>\n",
       "      <td>139.8375</td>\n",
       "      <td>169.3625</td>\n",
       "      <td>0.2375</td>\n",
       "    </tr>\n",
       "    <tr>\n",
       "      <th>4</th>\n",
       "      <td>1357225540000</td>\n",
       "      <td>139.8375</td>\n",
       "      <td>169.3625</td>\n",
       "      <td>0.3250</td>\n",
       "    </tr>\n",
       "  </tbody>\n",
       "</table>\n",
       "</div>"
      ],
      "text/plain": [
       "       timestamp    xprice    yprice  returns\n",
       "0  1357225500000  139.8375  169.2500   0.3125\n",
       "1  1357225510000  139.8875  169.3000   0.2750\n",
       "2  1357225520000  139.8625  169.3375   0.2500\n",
       "3  1357225530000  139.8375  169.3625   0.2375\n",
       "4  1357225540000  139.8375  169.3625   0.3250"
      ]
     },
     "execution_count": 7,
     "metadata": {},
     "output_type": "execute_result"
    }
   ],
   "source": [
    "\n",
    "df_example.head(5)\n"
   ]
  },
  {
   "cell_type": "code",
   "execution_count": 8,
   "metadata": {
    "collapsed": true
   },
   "outputs": [],
   "source": [
    "\n",
    "df_example['ewm_10'] = df_example['xprice'].ewm(span=10,min_periods=0,adjust=False,ignore_na=False).mean()\n",
    "df_example['ewm_20'] = df_example['xprice'].ewm(span=20,min_periods=0,adjust=False,ignore_na=False).mean()\n",
    "df_example['ewm_30'] = df_example['xprice'].ewm(span=30,min_periods=0,adjust=False,ignore_na=False).mean()\n",
    "df_example['ewm_60'] = df_example['xprice'].ewm(span=60,min_periods=0,adjust=False,ignore_na=False).mean()\n",
    "df_example['ewm_90'] = df_example['xprice'].ewm(span=90,min_periods=0,adjust=False,ignore_na=False).mean()\n",
    "df_example['ewm_120'] = df_example['xprice'].ewm(span=120,min_periods=0,adjust=False,ignore_na=False).mean()\n",
    "df_example['ewm_500'] = df_example['xprice'].ewm(span=500,min_periods=0,adjust=False,ignore_na=False).mean()\n",
    "df_example['ewm_1000'] = df_example['xprice'].ewm(span=1000,min_periods=0,adjust=False,ignore_na=False).mean()\n",
    "df_example['ewm_3600'] = df_example['xprice'].ewm(span=3600,min_periods=0,adjust=False,ignore_na=False).mean()\n"
   ]
  },
  {
   "cell_type": "code",
   "execution_count": 9,
   "metadata": {},
   "outputs": [
    {
     "data": {
      "image/png": "[encoded data removed]",
      "text/plain": [
       "<matplotlib.figure.Figure at 0x28c6c657a90>"
      ]
     },
     "metadata": {},
     "output_type": "display_data"
    },
    {
     "data": {
      "image/png": "[encoded data removed]",
      "text/plain": [
       "<matplotlib.figure.Figure at 0x28c6d1c9630>"
      ]
     },
     "metadata": {},
     "output_type": "display_data"
    }
   ],
   "source": [
    "plt.plot(df_example['xprice'][0:5000])\n",
    "plt.show()\n",
    "plt.plot(df_example['yprice'][0:5000])\n",
    "\n",
    "# plt.plot(df_example['ewm_10'][0:5000])\n",
    "# plt.plot(df_example['ewm_20'][0:5000])\n",
    "# plt.plot(df_example['ewm_30'][0:5000])\n",
    "# plt.plot(df_example['ewm_60'][0:5000])\n",
    "# plt.plot(df_example['ewm_90'][0:5000])\n",
    "# plt.plot(df_example['ewm_120'][0:5000])\n",
    "\n",
    "\n",
    "plt.show()"
   ]
  },
  {
   "cell_type": "code",
   "execution_count": null,
   "metadata": {
    "collapsed": true
   },
   "outputs": [],
   "source": []
  },
  {
   "cell_type": "code",
   "execution_count": null,
   "metadata": {
    "collapsed": true
   },
   "outputs": [],
   "source": []
  },
  {
   "cell_type": "code",
   "execution_count": null,
   "metadata": {
    "collapsed": true
   },
   "outputs": [],
   "source": []
  },
  {
   "cell_type": "code",
   "execution_count": null,
   "metadata": {
    "collapsed": true
   },
   "outputs": [],
   "source": []
  },
  {
   "cell_type": "code",
   "execution_count": 10,
   "metadata": {
    "collapsed": true
   },
   "outputs": [],
   "source": [
    "N_tot = df.shape[0]\n",
    "# Use data after 300000 to evaluate the model\n",
    "N_eval = 300000\n",
    "\n",
    "#Split the first 300000 data into training and testing\n",
    "N_train = 200000"
   ]
  },
  {
   "cell_type": "code",
   "execution_count": 11,
   "metadata": {},
   "outputs": [
    {
     "data": {
      "text/plain": [
       "(42630, 4)"
      ]
     },
     "execution_count": 11,
     "metadata": {},
     "output_type": "execute_result"
    }
   ],
   "source": [
    "df_eval = df.iloc[N_eval:]\n",
    "df_eval.shape"
   ]
  },
  {
   "cell_type": "code",
   "execution_count": 12,
   "metadata": {
    "collapsed": true
   },
   "outputs": [],
   "source": [
    "df_data = df.iloc[:N_eval]\n"
   ]
  },
  {
   "cell_type": "code",
   "execution_count": 13,
   "metadata": {
    "collapsed": true
   },
   "outputs": [],
   "source": [
    "ret = df['returns'].iloc[:N_eval]"
   ]
  },
  {
   "cell_type": "code",
   "execution_count": null,
   "metadata": {
    "collapsed": true
   },
   "outputs": [],
   "source": []
  },
  {
   "cell_type": "code",
   "execution_count": 14,
   "metadata": {
    "collapsed": true
   },
   "outputs": [],
   "source": [
    "del df_data['returns']\n",
    "del df_data['timestamp']\n",
    "\n"
   ]
  },
  {
   "cell_type": "code",
   "execution_count": null,
   "metadata": {
    "collapsed": true
   },
   "outputs": [],
   "source": []
  },
  {
   "cell_type": "code",
   "execution_count": null,
   "metadata": {
    "collapsed": true
   },
   "outputs": [],
   "source": []
  },
  {
   "cell_type": "markdown",
   "metadata": {},
   "source": [
    "# Feature Enginnering"
   ]
  },
  {
   "cell_type": "code",
   "execution_count": null,
   "metadata": {
    "collapsed": true
   },
   "outputs": [],
   "source": []
  },
  {
   "cell_type": "code",
   "execution_count": null,
   "metadata": {
    "collapsed": true
   },
   "outputs": [],
   "source": []
  },
  {
   "cell_type": "code",
   "execution_count": 56,
   "metadata": {},
   "outputs": [
    {
     "name": "stdout",
     "output_type": "stream",
     "text": [
      "[4.0, 8.0, 16.0, 32.0, 64.0, 128.0, 256.0]\n",
      "[1.0, 0.5, 0.25, 0.125]\n"
     ]
    }
   ],
   "source": [
    "\n",
    "ema_span_list = list(np.ceil([2**i for i in range(9)])[2:])\n",
    "# ema_span_list = np.square(np.ceil(np.linspace(2, np.sqrt(4500), 10)))\n",
    "print(ema_span_list)\n",
    "\n",
    "long_short_list = [1/(2)**i for i in range(4)]\n",
    "print(long_short_list)"
   ]
  },
  {
   "cell_type": "code",
   "execution_count": 57,
   "metadata": {},
   "outputs": [
    {
     "name": "stdout",
     "output_type": "stream",
     "text": [
      "[]\n"
     ]
    }
   ],
   "source": [
    "Direction = 0\n",
    "ratio = []\n",
    "for ii in range(Direction):\n",
    "    value = -3 + 3/Direction * ii \n",
    "    ratio.append([1, value])\n",
    "ratio = np.array(ratio)\n",
    "print(ratio)"
   ]
  },
  {
   "cell_type": "code",
   "execution_count": 58,
   "metadata": {
    "collapsed": true
   },
   "outputs": [],
   "source": [
    "\n",
    "for ii in range(Direction):\n",
    "    new_column3 = 'z' + str(ii) + 'price'\n",
    "    df_data[new_column3] = ratio[ii, 0] * df_data['xprice'] + ratio[ii, 1] * df_data['yprice']\n",
    "    "
   ]
  },
  {
   "cell_type": "code",
   "execution_count": 59,
   "metadata": {
    "collapsed": true
   },
   "outputs": [],
   "source": [
    "df_orig = df_data.copy()\n"
   ]
  },
  {
   "cell_type": "code",
   "execution_count": null,
   "metadata": {
    "collapsed": true
   },
   "outputs": [],
   "source": []
  },
  {
   "cell_type": "code",
   "execution_count": null,
   "metadata": {},
   "outputs": [
    {
     "data": {
      "text/plain": [
       "(300000, 262)"
      ]
     },
     "execution_count": 60,
     "metadata": {},
     "output_type": "execute_result"
    }
   ],
   "source": [
    "df_orig.shape"
   ]
  },
  {
   "cell_type": "code",
   "execution_count": null,
   "metadata": {},
   "outputs": [
    {
     "name": "stderr",
     "output_type": "stream",
     "text": [
      "C:\\Users\\liuli\\Anaconda3\\lib\\site-packages\\ipykernel_launcher.py:6: SettingWithCopyWarning: \n",
      "A value is trying to be set on a copy of a slice from a DataFrame.\n",
      "Try using .loc[row_indexer,col_indexer] = value instead\n",
      "\n",
      "See the caveats in the documentation: http://pandas.pydata.org/pandas-docs/stable/indexing.html#indexing-view-versus-copy\n",
      "  \n",
      "C:\\Users\\liuli\\Anaconda3\\lib\\site-packages\\ipykernel_launcher.py:10: SettingWithCopyWarning: \n",
      "A value is trying to be set on a copy of a slice from a DataFrame.\n",
      "Try using .loc[row_indexer,col_indexer] = value instead\n",
      "\n",
      "See the caveats in the documentation: http://pandas.pydata.org/pandas-docs/stable/indexing.html#indexing-view-versus-copy\n",
      "  # Remove the CWD from sys.path while we load stuff.\n",
      "C:\\Users\\liuli\\Anaconda3\\lib\\site-packages\\ipykernel_launcher.py:13: SettingWithCopyWarning: \n",
      "A value is trying to be set on a copy of a slice from a DataFrame.\n",
      "Try using .loc[row_indexer,col_indexer] = value instead\n",
      "\n",
      "See the caveats in the documentation: http://pandas.pydata.org/pandas-docs/stable/indexing.html#indexing-view-versus-copy\n",
      "  del sys.path[0]\n",
      "C:\\Users\\liuli\\Anaconda3\\lib\\site-packages\\ipykernel_launcher.py:16: SettingWithCopyWarning: \n",
      "A value is trying to be set on a copy of a slice from a DataFrame.\n",
      "Try using .loc[row_indexer,col_indexer] = value instead\n",
      "\n",
      "See the caveats in the documentation: http://pandas.pydata.org/pandas-docs/stable/indexing.html#indexing-view-versus-copy\n",
      "  app.launch_new_instance()\n",
      "C:\\Users\\liuli\\Anaconda3\\lib\\site-packages\\ipykernel_launcher.py:22: SettingWithCopyWarning: \n",
      "A value is trying to be set on a copy of a slice from a DataFrame.\n",
      "Try using .loc[row_indexer,col_indexer] = value instead\n",
      "\n",
      "See the caveats in the documentation: http://pandas.pydata.org/pandas-docs/stable/indexing.html#indexing-view-versus-copy\n",
      "C:\\Users\\liuli\\Anaconda3\\lib\\site-packages\\ipykernel_launcher.py:25: SettingWithCopyWarning: \n",
      "A value is trying to be set on a copy of a slice from a DataFrame.\n",
      "Try using .loc[row_indexer,col_indexer] = value instead\n",
      "\n",
      "See the caveats in the documentation: http://pandas.pydata.org/pandas-docs/stable/indexing.html#indexing-view-versus-copy\n",
      "C:\\Users\\liuli\\Anaconda3\\lib\\site-packages\\ipykernel_launcher.py:28: SettingWithCopyWarning: \n",
      "A value is trying to be set on a copy of a slice from a DataFrame.\n",
      "Try using .loc[row_indexer,col_indexer] = value instead\n",
      "\n",
      "See the caveats in the documentation: http://pandas.pydata.org/pandas-docs/stable/indexing.html#indexing-view-versus-copy\n"
     ]
    }
   ],
   "source": [
    "for price in df_orig.columns:\n",
    "    stock = price[:2]\n",
    "    \n",
    "    for ema_span in ema_span_list:\n",
    "        ema_price = stock + '_price_ema_' + str(ema_span)\n",
    "        df_data[ema_price] = df_data[price].ewm(span=ema_span,min_periods=0,adjust=False,ignore_na=False).mean()\n",
    "\n",
    "\n",
    "        vol_short = stock + '_vol_short_' + str(ema_span)\n",
    "        df_data[vol_short] = np.square(df_data[price] - df_data[ema_price])\n",
    "        \n",
    "        abs_short = stock + '_abs_short_' + str(ema_span)\n",
    "        df_data[abs_short] = np.abs(df_data[price] - df_data[ema_price])\n",
    "        \n",
    "        del_short = stock + '_del_short_' + str(ema_span)\n",
    "        df_data[del_short] = df_data[price] - df_data[ema_price]\n",
    "\n",
    "        for rate in long_short_list:\n",
    "            average = np.ceil(ema_span * rate)\n",
    "            \n",
    "            vol_long = stock + '_vol_long_' + str(ema_span) + '_' + str(average)\n",
    "            df_data[vol_long] = df_data[vol_short].ewm(span=average, min_periods=0,adjust=False,ignore_na=False).mean()\n",
    "\n",
    "            abs_long = stock + '_abs_long_' + str(ema_span) + '_' + str(average)\n",
    "            df_data[abs_long] = df_data[abs_short].ewm(span=average, min_periods=0,adjust=False,ignore_na=False).mean()\n",
    "\n",
    "            del_long = stock + '_del_long_' + str(ema_span) + '_' + str(average)\n",
    "            df_data[del_long] = df_data[del_short].ewm(span=average, min_periods=0,adjust=False,ignore_na=False).mean()            \n",
    "    "
   ]
  },
  {
   "cell_type": "code",
   "execution_count": null,
   "metadata": {},
   "outputs": [],
   "source": [
    "df_data.columns"
   ]
  },
  {
   "cell_type": "code",
   "execution_count": null,
   "metadata": {},
   "outputs": [],
   "source": [
    "df_data.shape"
   ]
  },
  {
   "cell_type": "code",
   "execution_count": null,
   "metadata": {
    "collapsed": true,
    "scrolled": true
   },
   "outputs": [],
   "source": [
    "# frame = [i for i in range(0, 20000)]\n",
    "\n",
    "# plt.plot(df_data['xprice'][frame])\n",
    "# plt.plot(df_data['xp_price_ema_729.0'][frame])\n",
    "\n",
    "# plt.show()\n",
    "\n"
   ]
  },
  {
   "cell_type": "code",
   "execution_count": null,
   "metadata": {
    "collapsed": true
   },
   "outputs": [],
   "source": [
    "# plt.plot(df_data['xp_vol_long_729.0_1458.0'][frame])\n",
    "# plt.show()"
   ]
  },
  {
   "cell_type": "code",
   "execution_count": null,
   "metadata": {
    "collapsed": true
   },
   "outputs": [],
   "source": []
  },
  {
   "cell_type": "code",
   "execution_count": null,
   "metadata": {
    "collapsed": true
   },
   "outputs": [],
   "source": []
  },
  {
   "cell_type": "code",
   "execution_count": null,
   "metadata": {
    "collapsed": true
   },
   "outputs": [],
   "source": []
  },
  {
   "cell_type": "code",
   "execution_count": null,
   "metadata": {
    "collapsed": true
   },
   "outputs": [],
   "source": [
    "from sklearn.preprocessing import StandardScaler\n",
    "scaler = StandardScaler()\n",
    "\n",
    "scaler.fit(df_data)\n",
    "df_data_arr = scaler.transform(df_data)"
   ]
  },
  {
   "cell_type": "code",
   "execution_count": null,
   "metadata": {
    "collapsed": true
   },
   "outputs": [],
   "source": [
    "# df_data_arr = np.array(df_data)"
   ]
  },
  {
   "cell_type": "code",
   "execution_count": null,
   "metadata": {},
   "outputs": [],
   "source": [
    "df_data.head()"
   ]
  },
  {
   "cell_type": "markdown",
   "metadata": {
    "collapsed": true
   },
   "source": [
    "# Training and Testing"
   ]
  },
  {
   "cell_type": "code",
   "execution_count": null,
   "metadata": {},
   "outputs": [],
   "source": [
    "ret_train = ret.iloc[:N_train]\n",
    "ret_test = ret.iloc[N_train: N_eval]\n",
    "print(ret_train.shape)\n",
    "print(ret_test.shape)\n"
   ]
  },
  {
   "cell_type": "code",
   "execution_count": null,
   "metadata": {},
   "outputs": [],
   "source": [
    "df_train = df_data_arr[:N_train, :]\n",
    "print(df_train.shape)\n",
    "df_test = df_data_arr[N_train: N_eval, :]\n",
    "print(df_test.shape)"
   ]
  },
  {
   "cell_type": "code",
   "execution_count": null,
   "metadata": {
    "collapsed": true
   },
   "outputs": [],
   "source": []
  },
  {
   "cell_type": "code",
   "execution_count": 30,
   "metadata": {},
   "outputs": [
    {
     "name": "stderr",
     "output_type": "stream",
     "text": [
      "C:\\Users\\liuli\\Anaconda3\\lib\\site-packages\\statsmodels\\compat\\pandas.py:56: FutureWarning: The pandas.core.datetools module is deprecated and will be removed in a future version. Please use the pandas.tseries module instead.\n",
      "  from pandas.core import datetools\n"
     ]
    }
   ],
   "source": [
    "import statsmodels.api as sm\n",
    "import statsmodels.formula.api as smf\n",
    "from sklearn.linear_model import LinearRegression\n",
    "\n",
    "\n",
    "\n",
    "target = ret_train.values\n",
    "beta = LinearRegression().fit(df_train, target)\n",
    "\n",
    "\n",
    "olsmod = sm.OLS(target, df_train)\n",
    "beta2 = olsmod.fit()\n",
    "\n",
    "y_pred_LR = beta.predict(df_test)\n",
    "y_pred_sm = beta2.predict(df_test)\n"
   ]
  },
  {
   "cell_type": "code",
   "execution_count": 31,
   "metadata": {
    "collapsed": true
   },
   "outputs": [],
   "source": [
    "import sklearn.metrics as metrics\n",
    "from scipy import stats\n"
   ]
  },
  {
   "cell_type": "code",
   "execution_count": 32,
   "metadata": {},
   "outputs": [
    {
     "name": "stdout",
     "output_type": "stream",
     "text": [
      "R2 in Training\n",
      "0.0408236030139\n",
      "0.0403045704449\n",
      "MSE in Training\n",
      "0.0346070940384\n"
     ]
    }
   ],
   "source": [
    "print('R2 in Training')\n",
    "print(metrics.r2_score(target, beta.predict(df_train)))\n",
    "print(beta2.rsquared)\n",
    "\n",
    "print('MSE in Training')\n",
    "print(metrics.mean_squared_error(target, beta2.predict(df_train)))\n"
   ]
  },
  {
   "cell_type": "code",
   "execution_count": 33,
   "metadata": {},
   "outputs": [
    {
     "name": "stdout",
     "output_type": "stream",
     "text": [
      "0.019552990625\n",
      "0.0219343613366\n",
      "0.0214435832413\n"
     ]
    }
   ],
   "source": [
    "\n",
    "print(np.square(ret_test.values).mean())\n",
    "\n",
    "print(metrics.mean_squared_error(ret_test, y_pred_LR))\n",
    "print(metrics.mean_squared_error(ret_test, y_pred_sm))\n",
    "# print(np.sqrt(metrics.mean_squared_error(ret_test, y_pred_GB)))\n",
    "\n"
   ]
  },
  {
   "cell_type": "code",
   "execution_count": null,
   "metadata": {
    "collapsed": true
   },
   "outputs": [],
   "source": [
    "Ntr, d = df_train.shape\n",
    "Nte, d = df_test.shape\n",
    "\n",
    "xtrain = np.ones([Ntr,d + 1])\n",
    "xtest = np.ones([Nte,d + 1])\n",
    "\n",
    "xtrain[:,:-1] = df_train\n",
    "xtest[:,:-1] = df_test"
   ]
  },
  {
   "cell_type": "code",
   "execution_count": null,
   "metadata": {
    "collapsed": true
   },
   "outputs": [],
   "source": []
  },
  {
   "cell_type": "code",
   "execution_count": null,
   "metadata": {
    "collapsed": true
   },
   "outputs": [],
   "source": []
  },
  {
   "cell_type": "code",
   "execution_count": null,
   "metadata": {
    "scrolled": true
   },
   "outputs": [],
   "source": [
    "x = xtrain\n",
    "y = target\n",
    "xTrans = x.transpose()\n",
    "\n",
    "N, d = xtrain.shape\n",
    "\n",
    "\n",
    "step_size = 2e-3\n",
    "epsilon = .1/d\n",
    "\n",
    "alpha_list = [1e-8*np.sqrt(d/N) * 10**i for i in range(2)]\n",
    "\n",
    "\n",
    "error = {}\n",
    "theta_list = {}\n",
    "\n",
    "for alpha in alpha_list:\n",
    "    \n",
    "    theta = np.zeros(d)\n",
    "    gradient = np.zeros(d)\n",
    "    valid_old = np.inf\n",
    "    \n",
    "    for i in range(51):\n",
    "        loss = np.dot(x, theta) - y         \n",
    "        \n",
    "#         gradient = np.dot(xTrans, loss) / N    \n",
    "        \n",
    "        gradient = stats.trim_mean(np.multiply(xTrans, loss), epsilon, axis=1)\n",
    "\n",
    "        theta = theta - step_size * gradient - alpha * theta\n",
    "        \n",
    "        cost = np.square(loss).mean() \n",
    "        valid = metrics.mean_squared_error(ret_test, np.dot(xtest, theta))\n",
    "\n",
    "        if i > 3 and valid > valid_old:\n",
    "            print('overfitting!')\n",
    "            break\n",
    "\n",
    "        error[(alpha, i)] = valid\n",
    "        \n",
    "        valid_old = valid\n",
    "        theta_list[(alpha, i)] = theta\n",
    "        print(\"alpha = %f | Cost: %f | Valid: %f\" % (alpha, cost, valid))\n",
    "     \n",
    "    '0.0195047945644'       "
   ]
  },
  {
   "cell_type": "code",
   "execution_count": null,
   "metadata": {},
   "outputs": [],
   "source": [
    "best = min(error, key=error.get)\n",
    "\n",
    "\n",
    "print(best)\n",
    "print(error[best])"
   ]
  },
  {
   "cell_type": "code",
   "execution_count": null,
   "metadata": {
    "collapsed": true
   },
   "outputs": [],
   "source": []
  },
  {
   "cell_type": "code",
   "execution_count": null,
   "metadata": {
    "collapsed": true
   },
   "outputs": [],
   "source": []
  },
  {
   "cell_type": "code",
   "execution_count": 38,
   "metadata": {
    "collapsed": true
   },
   "outputs": [],
   "source": [
    "model = theta_list[best]    \n",
    "# model = theta"
   ]
  },
  {
   "cell_type": "code",
   "execution_count": 39,
   "metadata": {},
   "outputs": [
    {
     "data": {
      "image/png": "[encoded data removed]",
      "text/plain": [
       "<matplotlib.figure.Figure at 0x28c00e2b278>"
      ]
     },
     "metadata": {},
     "output_type": "display_data"
    }
   ],
   "source": [
    "plt.plot(model)\n",
    "plt.grid()\n"
   ]
  },
  {
   "cell_type": "code",
   "execution_count": null,
   "metadata": {
    "collapsed": true
   },
   "outputs": [],
   "source": []
  },
  {
   "cell_type": "code",
   "execution_count": 40,
   "metadata": {
    "collapsed": true
   },
   "outputs": [],
   "source": [
    "feature_importance = sorted(range(len(model)), key = lambda k:model[k])"
   ]
  },
  {
   "cell_type": "code",
   "execution_count": 41,
   "metadata": {
    "collapsed": true
   },
   "outputs": [],
   "source": [
    "# print(index[::-1])"
   ]
  },
  {
   "cell_type": "code",
   "execution_count": null,
   "metadata": {
    "collapsed": true
   },
   "outputs": [],
   "source": []
  },
  {
   "cell_type": "code",
   "execution_count": 42,
   "metadata": {},
   "outputs": [
    {
     "name": "stdout",
     "output_type": "stream",
     "text": [
      "xp_abs_long_256.0_512.0\n",
      "yp_vol_long_256.0_512.0\n",
      "xp_del_long_8.0_1.0\n",
      "xp_del_short_8.0\n",
      "xp_del_short_16.0\n",
      "yp_abs_long_256.0_512.0\n",
      "xp_del_long_8.0_2.0\n",
      "xp_del_long_4.0_2.0\n",
      "xp_del_long_4.0_1.0\n",
      "xp_del_short_4.0\n",
      "xp_del_long_4.0_4.0\n",
      "xp_del_long_16.0_2.0\n",
      "xp_del_short_32.0\n",
      "xp_del_long_4.0_8.0\n",
      "xp_del_long_8.0_4.0\n",
      "xp_del_long_16.0_4.0\n",
      "xp_del_long_8.0_8.0\n",
      "xp_del_short_64.0\n",
      "xp_del_long_32.0_4.0\n",
      "xp_del_long_16.0_8.0\n"
     ]
    }
   ],
   "source": [
    "for ii in range(0, 20):\n",
    "    print(df_data.columns[feature_importance[::-1][ii]])"
   ]
  },
  {
   "cell_type": "code",
   "execution_count": null,
   "metadata": {
    "collapsed": true
   },
   "outputs": [],
   "source": []
  },
  {
   "cell_type": "code",
   "execution_count": 49,
   "metadata": {
    "collapsed": true
   },
   "outputs": [],
   "source": [
    "\n",
    "y_test_RGD = np.dot(xtest, model)"
   ]
  },
  {
   "cell_type": "code",
   "execution_count": 50,
   "metadata": {},
   "outputs": [
    {
     "name": "stdout",
     "output_type": "stream",
     "text": [
      "0.019552990625\n",
      "0.0195220806514\n"
     ]
    }
   ],
   "source": [
    "print(np.square(ret_test.values).mean())\n",
    "\n",
    "print(metrics.mean_squared_error(ret_test, y_test_RGD))\n"
   ]
  },
  {
   "cell_type": "code",
   "execution_count": null,
   "metadata": {
    "collapsed": true
   },
   "outputs": [],
   "source": []
  },
  {
   "cell_type": "code",
   "execution_count": null,
   "metadata": {
    "collapsed": true
   },
   "outputs": [],
   "source": []
  },
  {
   "cell_type": "code",
   "execution_count": 51,
   "metadata": {},
   "outputs": [
    {
     "name": "stdout",
     "output_type": "stream",
     "text": [
      "0.00379020435181\n",
      "0.00136362249298\n"
     ]
    }
   ],
   "source": [
    "print(metrics.r2_score(target, np.dot(xtrain, model)))\n",
    "\n",
    "print(metrics.r2_score(ret_test, y_test_RGD))\n"
   ]
  },
  {
   "cell_type": "code",
   "execution_count": 52,
   "metadata": {},
   "outputs": [
    {
     "name": "stdout",
     "output_type": "stream",
     "text": [
      "[[ 1.          0.08844279]\n",
      " [ 0.08844279  1.        ]]\n",
      "[[ 1.          0.03953038]\n",
      " [ 0.03953038  1.        ]]\n"
     ]
    }
   ],
   "source": [
    "print(np.corrcoef(target, np.dot(xtrain, model)))\n",
    "\n",
    "print(np.corrcoef(ret_test, y_test_RGD))\n"
   ]
  },
  {
   "cell_type": "code",
   "execution_count": 53,
   "metadata": {},
   "outputs": [
    {
     "data": {
      "image/png": "[encoded data removed]",
      "text/plain": [
       "<matplotlib.figure.Figure at 0x28c01948320>"
      ]
     },
     "metadata": {},
     "output_type": "display_data"
    }
   ],
   "source": [
    "# plt.plot(ret_test.values[2000: 5000])\n",
    "plt.plot(y_test_RGD[:])\n",
    "# plt.plot(y_pred_ridge[:])\n",
    "\n",
    "plt.grid()\n",
    "\n",
    "plt.show()"
   ]
  },
  {
   "cell_type": "code",
   "execution_count": null,
   "metadata": {
    "collapsed": true
   },
   "outputs": [],
   "source": []
  },
  {
   "cell_type": "code",
   "execution_count": 54,
   "metadata": {},
   "outputs": [
    {
     "data": {
      "text/plain": [
       "(200000, 262)"
      ]
     },
     "execution_count": 54,
     "metadata": {},
     "output_type": "execute_result"
    }
   ],
   "source": [
    "df_train.shape"
   ]
  },
  {
   "cell_type": "code",
   "execution_count": null,
   "metadata": {
    "collapsed": true
   },
   "outputs": [],
   "source": []
  },
  {
   "cell_type": "code",
   "execution_count": null,
   "metadata": {
    "collapsed": true
   },
   "outputs": [],
   "source": []
  },
  {
   "cell_type": "markdown",
   "metadata": {},
   "source": [
    "# Save the model"
   ]
  },
  {
   "cell_type": "code",
   "execution_count": 55,
   "metadata": {
    "collapsed": true
   },
   "outputs": [],
   "source": [
    "import pickle\n",
    "\n",
    "def save_obj(obj, name ):\n",
    "    with open('./'+ name + '.pkl', 'wb') as f:\n",
    "        pickle.dump(obj, f, pickle.HIGHEST_PROTOCOL)\n",
    "\n",
    "save_obj(theta, 'MODEL_220_Ridge_Trim')"
   ]
  },
  {
   "cell_type": "code",
   "execution_count": null,
   "metadata": {
    "collapsed": true
   },
   "outputs": [],
   "source": []
  },
  {
   "cell_type": "code",
   "execution_count": null,
   "metadata": {
    "collapsed": true
   },
   "outputs": [],
   "source": [
    "from sklearn.linear_model import Ridge\n",
    "\n",
    "print(alpha_list)"
   ]
  },
  {
   "cell_type": "code",
   "execution_count": null,
   "metadata": {
    "collapsed": true
   },
   "outputs": [],
   "source": [
    "\n",
    "for alpha_number in alpha_list:\n",
    "    ridge = Ridge(fit_intercept=True, alpha= alpha_number, random_state=42)\n",
    "    ridge.fit(df_train, target)\n",
    "#     coef_ridge = ridge.coef_\n",
    "    \n",
    "    y_pred_ridge = ridge.predict(df_test)\n",
    "    print(alpha_number, metrics.mean_squared_error(ret_test, y_pred_ridge))\n"
   ]
  },
  {
   "cell_type": "code",
   "execution_count": null,
   "metadata": {
    "collapsed": true
   },
   "outputs": [],
   "source": []
  },
  {
   "cell_type": "code",
   "execution_count": null,
   "metadata": {
    "collapsed": true
   },
   "outputs": [],
   "source": [
    "from sklearn.linear_model import HuberRegressor, Ridge\n"
   ]
  },
  {
   "cell_type": "code",
   "execution_count": null,
   "metadata": {
    "collapsed": true
   },
   "outputs": [],
   "source": [
    "beta_list = alpha_list\n"
   ]
  },
  {
   "cell_type": "code",
   "execution_count": null,
   "metadata": {
    "collapsed": true
   },
   "outputs": [],
   "source": [
    "\n",
    "\n",
    "for beta_number in beta_list:\n",
    "    huber = HuberRegressor(fit_intercept=True, alpha = beta_number, max_iter=100, epsilon = 1.0)\n",
    "    huber.fit(df_train, target)\n",
    "    \n",
    "    y_pred_huber = huber.predict(df_test)\n",
    "    print(beta_number, metrics.mean_squared_error(ret_test, y_pred_huber))\n",
    "\n",
    "\n",
    "\n",
    "\n"
   ]
  },
  {
   "cell_type": "code",
   "execution_count": null,
   "metadata": {
    "collapsed": true
   },
   "outputs": [],
   "source": []
  },
  {
   "cell_type": "code",
   "execution_count": null,
   "metadata": {
    "collapsed": true
   },
   "outputs": [],
   "source": [
    "from sklearn import linear_model, datasets\n",
    "\n",
    "ransac = linear_model.RANSACRegressor()\n",
    "ransac.fit(df_train, target)\n",
    "y_pred_ransac = ransac.predict(df_test)\n",
    "\n"
   ]
  },
  {
   "cell_type": "code",
   "execution_count": null,
   "metadata": {
    "collapsed": true
   },
   "outputs": [],
   "source": [
    "print(metrics.mean_squared_error(ret_test, y_pred_ransac))\n"
   ]
  },
  {
   "cell_type": "code",
   "execution_count": null,
   "metadata": {
    "collapsed": true
   },
   "outputs": [],
   "source": []
  },
  {
   "cell_type": "code",
   "execution_count": null,
   "metadata": {
    "collapsed": true
   },
   "outputs": [],
   "source": []
  },
  {
   "cell_type": "markdown",
   "metadata": {},
   "source": [
    "## Ridge CV"
   ]
  },
  {
   "cell_type": "code",
   "execution_count": null,
   "metadata": {
    "collapsed": true
   },
   "outputs": [],
   "source": [
    "# from sklearn.linear_model import RidgeCV\n",
    "\n",
    "# clf = RidgeCV(alphas=[1e-6, 3e-6, 6e-6, 1e-5, 3e-5], store_cv_values=True, fit_intercept=True).fit(df_train, target)"
   ]
  },
  {
   "cell_type": "code",
   "execution_count": null,
   "metadata": {
    "collapsed": true
   },
   "outputs": [],
   "source": []
  },
  {
   "cell_type": "code",
   "execution_count": null,
   "metadata": {
    "collapsed": true
   },
   "outputs": [],
   "source": []
  },
  {
   "cell_type": "code",
   "execution_count": null,
   "metadata": {
    "collapsed": true
   },
   "outputs": [],
   "source": [
    "# y_pred_ridge_2 = clf.predict(df_test)\n"
   ]
  },
  {
   "cell_type": "markdown",
   "metadata": {
    "collapsed": true
   },
   "source": [
    "# GBDT"
   ]
  },
  {
   "cell_type": "code",
   "execution_count": null,
   "metadata": {
    "collapsed": true
   },
   "outputs": [],
   "source": []
  },
  {
   "cell_type": "code",
   "execution_count": null,
   "metadata": {
    "collapsed": true
   },
   "outputs": [],
   "source": []
  },
  {
   "cell_type": "code",
   "execution_count": null,
   "metadata": {
    "collapsed": true
   },
   "outputs": [],
   "source": [
    "y_pred_ridge_thresh = y_pred_ridge.copy()\n",
    "y_pred_huber_thresh = y_pred_huber.copy()"
   ]
  },
  {
   "cell_type": "code",
   "execution_count": null,
   "metadata": {
    "collapsed": true
   },
   "outputs": [],
   "source": [
    "lower_thresh = 0.02\n",
    "upper_thresh = 0.1\n",
    "\n",
    "\n",
    "plt.plot(y_pred_huber)"
   ]
  },
  {
   "cell_type": "code",
   "execution_count": null,
   "metadata": {
    "collapsed": true
   },
   "outputs": [],
   "source": [
    "lower_threshold_indices = (np.abs(y_pred_ridge) < lower_thresh)\n",
    "upper_threshold_indices = (np.abs(y_pred_ridge) > upper_thresh)\n",
    "\n",
    "y_pred_ridge_thresh[upper_threshold_indices] = 0\n",
    "y_pred_ridge_thresh[lower_threshold_indices] = 0"
   ]
  },
  {
   "cell_type": "code",
   "execution_count": null,
   "metadata": {
    "collapsed": true
   },
   "outputs": [],
   "source": [
    "lower_threshold_indices = (np.abs(y_pred_huber) < lower_thresh)\n",
    "upper_threshold_indices = (np.abs(y_pred_huber) > upper_thresh)\n",
    "\n",
    "y_pred_huber_thresh[upper_threshold_indices] = 0\n",
    "y_pred_huber_thresh[lower_threshold_indices] = 0"
   ]
  },
  {
   "cell_type": "code",
   "execution_count": null,
   "metadata": {
    "collapsed": true
   },
   "outputs": [],
   "source": []
  },
  {
   "cell_type": "code",
   "execution_count": null,
   "metadata": {
    "collapsed": true
   },
   "outputs": [],
   "source": [
    "\n",
    "\n",
    "print(metrics.r2_score(ret_test, y_pred_ridge))\n",
    "print(metrics.r2_score(ret_test, y_pred_sm))"
   ]
  },
  {
   "cell_type": "code",
   "execution_count": null,
   "metadata": {
    "collapsed": true
   },
   "outputs": [],
   "source": [
    "print(np.square(ret_test.values).mean())\n",
    "\n",
    "print(metrics.mean_squared_error(ret_test, y_pred_ridge))\n",
    "print(metrics.mean_squared_error(ret_test, y_pred_sm))\n",
    "# print(np.sqrt(metrics.mean_squared_error(ret_test, y_pred_GB)))\n"
   ]
  },
  {
   "cell_type": "code",
   "execution_count": null,
   "metadata": {
    "collapsed": true
   },
   "outputs": [],
   "source": [
    "plt.plot(y_pred_ridge)"
   ]
  },
  {
   "cell_type": "code",
   "execution_count": null,
   "metadata": {
    "collapsed": true
   },
   "outputs": [],
   "source": [
    "plt.plot(ret_test.values[:1000])\n",
    "plt.plot(y_pred_ridge[:1000])\n",
    "plt.show()\n"
   ]
  },
  {
   "cell_type": "code",
   "execution_count": null,
   "metadata": {
    "collapsed": true
   },
   "outputs": [],
   "source": [
    "ret_test_sign = np.array(ret_test>0)"
   ]
  },
  {
   "cell_type": "code",
   "execution_count": null,
   "metadata": {
    "collapsed": true
   },
   "outputs": [],
   "source": [
    "np.sum((y_pred_ridge > 0) == ret_test_sign)/len(ret_test_sign)\n"
   ]
  },
  {
   "cell_type": "code",
   "execution_count": null,
   "metadata": {
    "collapsed": true
   },
   "outputs": [],
   "source": []
  },
  {
   "cell_type": "code",
   "execution_count": null,
   "metadata": {
    "collapsed": true
   },
   "outputs": [],
   "source": []
  },
  {
   "cell_type": "code",
   "execution_count": null,
   "metadata": {
    "collapsed": true
   },
   "outputs": [],
   "source": []
  },
  {
   "cell_type": "code",
   "execution_count": null,
   "metadata": {
    "collapsed": true
   },
   "outputs": [],
   "source": []
  },
  {
   "cell_type": "code",
   "execution_count": null,
   "metadata": {
    "collapsed": true
   },
   "outputs": [],
   "source": []
  },
  {
   "cell_type": "code",
   "execution_count": null,
   "metadata": {
    "collapsed": true
   },
   "outputs": [],
   "source": []
  },
  {
   "cell_type": "code",
   "execution_count": null,
   "metadata": {
    "collapsed": true
   },
   "outputs": [],
   "source": []
  },
  {
   "cell_type": "code",
   "execution_count": null,
   "metadata": {
    "collapsed": true
   },
   "outputs": [],
   "source": []
  },
  {
   "cell_type": "code",
   "execution_count": null,
   "metadata": {
    "collapsed": true
   },
   "outputs": [],
   "source": []
  },
  {
   "cell_type": "code",
   "execution_count": null,
   "metadata": {
    "collapsed": true
   },
   "outputs": [],
   "source": []
  },
  {
   "cell_type": "markdown",
   "metadata": {},
   "source": [
    "# Offline Evaluation"
   ]
  },
  {
   "cell_type": "code",
   "execution_count": null,
   "metadata": {
    "collapsed": true
   },
   "outputs": [],
   "source": []
  },
  {
   "cell_type": "code",
   "execution_count": null,
   "metadata": {
    "collapsed": true
   },
   "outputs": [],
   "source": []
  },
  {
   "cell_type": "code",
   "execution_count": null,
   "metadata": {
    "collapsed": true
   },
   "outputs": [],
   "source": []
  },
  {
   "cell_type": "code",
   "execution_count": null,
   "metadata": {
    "collapsed": true
   },
   "outputs": [],
   "source": []
  },
  {
   "cell_type": "code",
   "execution_count": null,
   "metadata": {
    "collapsed": true
   },
   "outputs": [],
   "source": []
  },
  {
   "cell_type": "code",
   "execution_count": null,
   "metadata": {
    "collapsed": true
   },
   "outputs": [],
   "source": []
  }
 ],
 "metadata": {
  "kernelspec": {
   "display_name": "Python 3",
   "language": "python",
   "name": "python3"
  },
  "language_info": {
   "codemirror_mode": {
    "name": "ipython",
    "version": 3
   },
   "file_extension": ".py",
   "mimetype": "text/x-python",
   "name": "python",
   "nbconvert_exporter": "python",
   "pygments_lexer": "ipython3",
   "version": "3.6.2"
  }
 },
 "nbformat": 4,
 "nbformat_minor": 2
}
